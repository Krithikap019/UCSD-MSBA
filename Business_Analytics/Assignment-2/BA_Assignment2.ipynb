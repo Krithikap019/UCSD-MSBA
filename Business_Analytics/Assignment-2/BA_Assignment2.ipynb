{
 "cells": [
  {
   "cell_type": "markdown",
   "metadata": {},
   "source": [
    "## Question 4.2"
   ]
  },
  {
   "cell_type": "code",
   "execution_count": 34,
   "metadata": {},
   "outputs": [
    {
     "data": {
      "text/plain": [
       "[704.5953140954381, 775.364685904562]"
      ]
     },
     "execution_count": 34,
     "metadata": {},
     "output_type": "execute_result"
    }
   ],
   "source": [
    "from scipy import stats\n",
    "mean = 739.98\n",
    "std_dev = 312.70\n",
    "n = 300\n",
    "confidence_level_90 = 0.90\n",
    "confidence_level_95 = 0.95\n",
    "confidence_level_99 = 0.99\n",
    "\n",
    "# Calculate the z-score for the 95% confidence level\n",
    "z_value = stats.norm.ppf(1 - (1 - confidence_level_95) / 2)\n",
    "\n",
    "# Calculate the standard error\n",
    "standard_error = std_dev / (n ** 0.5)\n",
    "\n",
    "# Calculate the margin of error\n",
    "margin_of_error = z_value * standard_error\n",
    "\n",
    "# Calculate the upper bound (b)\n",
    "upper_b = mean + margin_of_error\n",
    "lower_b = mean - margin_of_error\n",
    "[lower_b, upper_b]"
   ]
  },
  {
   "cell_type": "code",
   "execution_count": 35,
   "metadata": {},
   "outputs": [
    {
     "data": {
      "text/plain": [
       "[693.4766399542116, 786.4833600457885]"
      ]
     },
     "execution_count": 35,
     "metadata": {},
     "output_type": "execute_result"
    }
   ],
   "source": [
    "# Calculate the z-score for the 99% confidence level\n",
    "z_value = stats.norm.ppf(1 - (1 - confidence_level_99) / 2)\n",
    "\n",
    "# Calculate the standard error\n",
    "standard_error = std_dev / (n ** 0.5)\n",
    "\n",
    "# Calculate the margin of error\n",
    "margin_of_error = z_value * standard_error\n",
    "\n",
    "# Calculate the upper bound (b)\n",
    "upper_b = mean + margin_of_error\n",
    "lower_b = mean - margin_of_error\n",
    "[lower_b, upper_b]"
   ]
  },
  {
   "cell_type": "code",
   "execution_count": 36,
   "metadata": {},
   "outputs": [
    {
     "data": {
      "text/plain": [
       "769.6757645179973"
      ]
     },
     "execution_count": 36,
     "metadata": {},
     "output_type": "execute_result"
    }
   ],
   "source": [
    "# Calculate the z-score for the 90% confidence level\n",
    "z_value = stats.norm.ppf(1 - (1 - confidence_level_90) / 2)\n",
    "\n",
    "# Calculate the standard error\n",
    "standard_error = std_dev / (n ** 0.5)\n",
    "\n",
    "# Calculate the margin of error\n",
    "margin_of_error = z_value * standard_error\n",
    "\n",
    "# Calculate the upper bound (b)\n",
    "b = mean + margin_of_error\n",
    "b"
   ]
  },
  {
   "cell_type": "markdown",
   "metadata": {},
   "source": [
    "## Question 4.18"
   ]
  },
  {
   "cell_type": "code",
   "execution_count": 37,
   "metadata": {},
   "outputs": [
    {
     "data": {
      "text/plain": [
       "(5.60507473891059, 10.59492526108941)"
      ]
     },
     "execution_count": 37,
     "metadata": {},
     "output_type": "execute_result"
    }
   ],
   "source": [
    "import scipy.stats as stats\n",
    "\n",
    "# Given values\n",
    "mean = 8.1\n",
    "std_dev = 3.9\n",
    "n = 20\n",
    "\n",
    "# Degrees of freedom\n",
    "df = n - 1\n",
    "\n",
    "# Calculate the t-score for the 99% confidence level\n",
    "t_value = stats.t.ppf(1 - (1 - confidence_level_99) / 2, df)\n",
    "\n",
    "# Calculate the standard error\n",
    "standard_error = std_dev / (n ** 0.5)\n",
    "\n",
    "# Calculate the margin of error\n",
    "margin_of_error = t_value * standard_error\n",
    "\n",
    "# Calculate the confidence interval\n",
    "lower_bound = mean - margin_of_error\n",
    "upper_bound = mean + margin_of_error\n",
    "\n",
    "(lower_bound, upper_bound)"
   ]
  },
  {
   "cell_type": "code",
   "execution_count": 38,
   "metadata": {},
   "outputs": [
    {
     "data": {
      "text/plain": [
       "(14.031824744534227, 16.968175255465773)"
      ]
     },
     "execution_count": 38,
     "metadata": {},
     "output_type": "execute_result"
    }
   ],
   "source": [
    "# Given values for part (b)\n",
    "mean_delay = 15.5\n",
    "std_dev_delay = 6.7\n",
    "n_delay = 80\n",
    "\n",
    "# Calculate the z-score for the 95% confidence level\n",
    "z_value_95 = stats.norm.ppf(1 - (1 - confidence_level_95) / 2)\n",
    "\n",
    "# Calculate the standard error\n",
    "standard_error_delay = std_dev_delay / (n_delay ** 0.5)\n",
    "\n",
    "# Calculate the margin of error\n",
    "margin_of_error_delay = z_value_95 * standard_error_delay\n",
    "\n",
    "# Calculate the confidence interval\n",
    "lower_bound_delay = mean_delay - margin_of_error_delay\n",
    "upper_bound_delay = mean_delay + margin_of_error_delay\n",
    "\n",
    "(lower_bound_delay, upper_bound_delay)"
   ]
  },
  {
   "cell_type": "code",
   "execution_count": 39,
   "metadata": {},
   "outputs": [
    {
     "data": {
      "text/plain": [
       "298"
      ]
     },
     "execution_count": 39,
     "metadata": {},
     "output_type": "execute_result"
    }
   ],
   "source": [
    "# Given values for part (c)\n",
    "std_dev_delay_c = 6.7\n",
    "margin_of_error = 1\n",
    "\n",
    "# Calculate the z-score for the 99% confidence level\n",
    "z_value_99 = stats.norm.ppf(1 - (1 - confidence_level_99) / 2)\n",
    "\n",
    "# Calculate the required sample size\n",
    "required_sample_size = ((z_value_99 * std_dev_delay_c) / margin_of_error) ** 2\n",
    "\n",
    "# Round up to the nearest whole number\n",
    "required_sample_size = round(required_sample_size)\n",
    "\n",
    "required_sample_size"
   ]
  },
  {
   "cell_type": "code",
   "execution_count": 40,
   "metadata": {},
   "outputs": [
    {
     "data": {
      "text/plain": [
       "(0.6551136516088755, 0.8448863483911245)"
      ]
     },
     "execution_count": 40,
     "metadata": {},
     "output_type": "execute_result"
    }
   ],
   "source": [
    "# Given values for part (d)\n",
    "p = 60 / 80\n",
    "n = 80\n",
    "\n",
    "# Calculate the z-score for the 95% confidence level\n",
    "z_value_95 = stats.norm.ppf(1 - (1 - confidence_level_95) / 2)\n",
    "\n",
    "# Calculate the standard error for the proportion\n",
    "SE_prop = (p * (1 - p) / n) ** 0.5\n",
    "\n",
    "# Calculate the margin of error\n",
    "ME = z_value_95 * SE_prop\n",
    "\n",
    "# Calculate the confidence interval\n",
    "lower_bound_prop = p - ME\n",
    "upper_bound_prop = p + ME\n",
    "\n",
    "(lower_bound_prop, upper_bound_prop)\n"
   ]
  },
  {
   "cell_type": "code",
   "execution_count": 41,
   "metadata": {},
   "outputs": [
    {
     "data": {
      "text/plain": [
       "1801"
      ]
     },
     "execution_count": 41,
     "metadata": {},
     "output_type": "execute_result"
    }
   ],
   "source": [
    "# Given values for part (e)\n",
    "p = 0.75\n",
    "margin_of_error_e = 0.02\n",
    "confidence_level_95_e = 0.95\n",
    "\n",
    "# Calculate the z-score for the 95% confidence level\n",
    "z_value_95_e = stats.norm.ppf(1 - (1 - confidence_level_95_e) / 2)\n",
    "\n",
    "# Calculate the required sample size for proportion\n",
    "required_sample_size_e = (z_value_95_e**2 * p * (1 - p)) / margin_of_error_e**2\n",
    "\n",
    "# Round up to the nearest whole number\n",
    "required_sample_size_e = round(required_sample_size_e)\n",
    "\n",
    "required_sample_size_e"
   ]
  },
  {
   "cell_type": "markdown",
   "metadata": {},
   "source": []
  }
 ],
 "metadata": {
  "kernelspec": {
   "display_name": "base",
   "language": "python",
   "name": "python3"
  },
  "language_info": {
   "codemirror_mode": {
    "name": "ipython",
    "version": 3
   },
   "file_extension": ".py",
   "mimetype": "text/x-python",
   "name": "python",
   "nbconvert_exporter": "python",
   "pygments_lexer": "ipython3",
   "version": "3.11.9"
  }
 },
 "nbformat": 4,
 "nbformat_minor": 2
}
