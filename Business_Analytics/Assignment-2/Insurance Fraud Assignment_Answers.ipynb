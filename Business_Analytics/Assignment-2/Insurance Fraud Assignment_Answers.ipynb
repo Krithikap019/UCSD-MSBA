{
 "cells": [
  {
   "cell_type": "markdown",
   "metadata": {},
   "source": [
    "# Insurance Fraud"
   ]
  },
  {
   "cell_type": "markdown",
   "metadata": {},
   "source": [
    "RadySafe Insurance company has recently come under increased pressure to improve its operation. Unfortunately, the investment side of its business has not been performing well, and management expects better operating income performance. One of their greatest concerns has been fraudulent claims.\n",
    "\n",
    "Even worse, the company's business analytics specialist was recently poached by one of its competitors who offered her quite a lucrative salary/benefits package. She relocated and started with them on January 1, 2009. The company realizes it cannot replace such a valuable human resource in a short amount of time, and has decided to contract you to help provide guidance on some key decisions. \n",
    "\n",
    "It is Monday, January 5<sup>th</sup>, 2009, and RadySafe Insurance is eagerly awaiting your recommendations. As part of your contract, you have been given access to a random sample of 4,415 of their claims data from last year. This can be found in the file: `insurance.parquet`, along with its data description in `insurance_description.md`."
   ]
  },
  {
   "cell_type": "markdown",
   "metadata": {},
   "source": [
    "#### **Question 1**\n",
    "***Should RadySafe Insurance raise premiums in 2009?***"
   ]
  },
  {
   "cell_type": "markdown",
   "metadata": {},
   "source": [
    "Under RadySafe Insurance policy guidelines, a policy premium increase is merited if the average claim amount has increased by at least 5\\% over the previous year. The accounting department has reported that the average claim amount in 2007 was \\$63,500.\n",
    "\n",
    "Note: The `claim_amount` variable in the dataset is reported in \\$1,000's of dollars.\n",
    "\n",
    "Make sure to clearly describe your null and alternative hypotheses. Would you order a reevaluation of the policy premiums based on the available data? Why or why not?"
   ]
  },
  {
   "cell_type": "markdown",
   "metadata": {},
   "source": [
    "### Answer 1"
   ]
  },
  {
   "cell_type": "markdown",
   "metadata": {},
   "source": [
    "Null Hypothesis\n",
    "\n",
    "Ho : The average claim amount in 2009 has not increased by at least 5% over the average from 2007.\n",
    "     avg amount <= 1.05 * 63,500 = 66675\n",
    "\n",
    "Alternate Hypothesis\n",
    "\n",
    "Ha : The average claim amount in 2009 has increased by at least 5% over the average from 2007.\n",
    "     avg amount > 1.05 * 63,500 = 66675\n",
    "\n",
    "\n"
   ]
  },
  {
   "cell_type": "code",
   "execution_count": 128,
   "metadata": {},
   "outputs": [],
   "source": [
    "import pandas as pd\n",
    "from scipy import stats\n",
    "import matplotlib.pyplot as plt \n",
    "import seaborn as sns\n",
    "df = pd.read_parquet('insurance.parquet')\n",
    "df.head()\n",
    "\n",
    "mean_2007 = 63500\n",
    "mean_2009  = 1.05 * 63500"
   ]
  },
  {
   "cell_type": "code",
   "execution_count": 129,
   "metadata": {},
   "outputs": [
    {
     "data": {
      "text/html": [
       "<div>\n",
       "<style scoped>\n",
       "    .dataframe tbody tr th:only-of-type {\n",
       "        vertical-align: middle;\n",
       "    }\n",
       "\n",
       "    .dataframe tbody tr th {\n",
       "        vertical-align: top;\n",
       "    }\n",
       "\n",
       "    .dataframe thead th {\n",
       "        text-align: right;\n",
       "    }\n",
       "</style>\n",
       "<table border=\"1\" class=\"dataframe\">\n",
       "  <thead>\n",
       "    <tr style=\"text-align: right;\">\n",
       "      <th></th>\n",
       "      <th>claimid</th>\n",
       "      <th>incident_date</th>\n",
       "      <th>claim_type</th>\n",
       "      <th>uninhabitable</th>\n",
       "      <th>claim_amount</th>\n",
       "      <th>fraudulent</th>\n",
       "      <th>policyid</th>\n",
       "      <th>policy_date</th>\n",
       "      <th>coverage</th>\n",
       "      <th>deductible</th>\n",
       "      <th>...</th>\n",
       "      <th>dob</th>\n",
       "      <th>edcat</th>\n",
       "      <th>job_start_date</th>\n",
       "      <th>retire</th>\n",
       "      <th>income</th>\n",
       "      <th>marital</th>\n",
       "      <th>reside</th>\n",
       "      <th>occupancy_date</th>\n",
       "      <th>primary_residence</th>\n",
       "      <th>claim_amount_000s</th>\n",
       "    </tr>\n",
       "  </thead>\n",
       "  <tbody>\n",
       "    <tr>\n",
       "      <th>0</th>\n",
       "      <td>351069569</td>\n",
       "      <td>2008-01-18 10:09:59+00:00</td>\n",
       "      <td>Fire/Smoke</td>\n",
       "      <td>No</td>\n",
       "      <td>192.287</td>\n",
       "      <td>No</td>\n",
       "      <td>SSB-514465</td>\n",
       "      <td>1987-01-26 00:26:43+00:00</td>\n",
       "      <td>436</td>\n",
       "      <td>2000</td>\n",
       "      <td>...</td>\n",
       "      <td>1943-03-12</td>\n",
       "      <td>High school</td>\n",
       "      <td>1981-04-16</td>\n",
       "      <td>No</td>\n",
       "      <td>193</td>\n",
       "      <td>Unmarried</td>\n",
       "      <td>1</td>\n",
       "      <td>1978-01-06</td>\n",
       "      <td>Yes</td>\n",
       "      <td>192287.0</td>\n",
       "    </tr>\n",
       "    <tr>\n",
       "      <th>1</th>\n",
       "      <td>806984053</td>\n",
       "      <td>2008-07-18 23:21:30+00:00</td>\n",
       "      <td>Fire/Smoke</td>\n",
       "      <td>No</td>\n",
       "      <td>355.896</td>\n",
       "      <td>No</td>\n",
       "      <td>XWZ-702801</td>\n",
       "      <td>1983-05-14 16:02:51+00:00</td>\n",
       "      <td>925</td>\n",
       "      <td>1000</td>\n",
       "      <td>...</td>\n",
       "      <td>1933-05-10</td>\n",
       "      <td>High school</td>\n",
       "      <td>1982-11-04</td>\n",
       "      <td>No</td>\n",
       "      <td>203</td>\n",
       "      <td>Unmarried</td>\n",
       "      <td>1</td>\n",
       "      <td>1971-02-04</td>\n",
       "      <td>Yes</td>\n",
       "      <td>355896.0</td>\n",
       "    </tr>\n",
       "    <tr>\n",
       "      <th>2</th>\n",
       "      <td>654100160</td>\n",
       "      <td>2008-03-01 00:42:16+00:00</td>\n",
       "      <td>Theft/Vandalism</td>\n",
       "      <td>No</td>\n",
       "      <td>3.530</td>\n",
       "      <td>No</td>\n",
       "      <td>FMP-391297</td>\n",
       "      <td>1988-01-15 11:53:21+00:00</td>\n",
       "      <td>79</td>\n",
       "      <td>1000</td>\n",
       "      <td>...</td>\n",
       "      <td>1939-04-02</td>\n",
       "      <td>High school</td>\n",
       "      <td>2004-08-20</td>\n",
       "      <td>No</td>\n",
       "      <td>49</td>\n",
       "      <td>Unmarried</td>\n",
       "      <td>1</td>\n",
       "      <td>1977-03-30</td>\n",
       "      <td>Yes</td>\n",
       "      <td>3530.0</td>\n",
       "    </tr>\n",
       "    <tr>\n",
       "      <th>3</th>\n",
       "      <td>653220231</td>\n",
       "      <td>2008-10-28 10:00:09+00:00</td>\n",
       "      <td>Wind/Hail</td>\n",
       "      <td>No</td>\n",
       "      <td>33.452</td>\n",
       "      <td>No</td>\n",
       "      <td>WEV-471919</td>\n",
       "      <td>2000-02-22 19:19:45+00:00</td>\n",
       "      <td>607</td>\n",
       "      <td>1000</td>\n",
       "      <td>...</td>\n",
       "      <td>1972-04-12</td>\n",
       "      <td>Some college</td>\n",
       "      <td>1999-07-29</td>\n",
       "      <td>No</td>\n",
       "      <td>118</td>\n",
       "      <td>Married</td>\n",
       "      <td>3</td>\n",
       "      <td>1993-05-23</td>\n",
       "      <td>Yes</td>\n",
       "      <td>33452.0</td>\n",
       "    </tr>\n",
       "    <tr>\n",
       "      <th>4</th>\n",
       "      <td>226637568</td>\n",
       "      <td>2008-05-31 03:55:07+00:00</td>\n",
       "      <td>Theft/Vandalism</td>\n",
       "      <td>No</td>\n",
       "      <td>4.029</td>\n",
       "      <td>No</td>\n",
       "      <td>ESY-256692</td>\n",
       "      <td>2001-08-09 22:37:46+00:00</td>\n",
       "      <td>119</td>\n",
       "      <td>3000</td>\n",
       "      <td>...</td>\n",
       "      <td>1968-08-04</td>\n",
       "      <td>No high school</td>\n",
       "      <td>2004-07-04</td>\n",
       "      <td>No</td>\n",
       "      <td>18</td>\n",
       "      <td>Unmarried</td>\n",
       "      <td>1</td>\n",
       "      <td>2000-09-04</td>\n",
       "      <td>Yes</td>\n",
       "      <td>4029.0</td>\n",
       "    </tr>\n",
       "    <tr>\n",
       "      <th>...</th>\n",
       "      <td>...</td>\n",
       "      <td>...</td>\n",
       "      <td>...</td>\n",
       "      <td>...</td>\n",
       "      <td>...</td>\n",
       "      <td>...</td>\n",
       "      <td>...</td>\n",
       "      <td>...</td>\n",
       "      <td>...</td>\n",
       "      <td>...</td>\n",
       "      <td>...</td>\n",
       "      <td>...</td>\n",
       "      <td>...</td>\n",
       "      <td>...</td>\n",
       "      <td>...</td>\n",
       "      <td>...</td>\n",
       "      <td>...</td>\n",
       "      <td>...</td>\n",
       "      <td>...</td>\n",
       "      <td>...</td>\n",
       "      <td>...</td>\n",
       "    </tr>\n",
       "    <tr>\n",
       "      <th>4410</th>\n",
       "      <td>480679892</td>\n",
       "      <td>2008-03-14 19:45:25+00:00</td>\n",
       "      <td>Contamination</td>\n",
       "      <td>No</td>\n",
       "      <td>44.785</td>\n",
       "      <td>No</td>\n",
       "      <td>AEG-804848</td>\n",
       "      <td>1981-10-13 09:04:28+00:00</td>\n",
       "      <td>95</td>\n",
       "      <td>1000</td>\n",
       "      <td>...</td>\n",
       "      <td>1945-04-16</td>\n",
       "      <td>Some college</td>\n",
       "      <td>2002-06-09</td>\n",
       "      <td>No</td>\n",
       "      <td>40</td>\n",
       "      <td>Married</td>\n",
       "      <td>2</td>\n",
       "      <td>1976-02-12</td>\n",
       "      <td>Yes</td>\n",
       "      <td>44785.0</td>\n",
       "    </tr>\n",
       "    <tr>\n",
       "      <th>4411</th>\n",
       "      <td>978293405</td>\n",
       "      <td>2008-01-16 14:54:24+00:00</td>\n",
       "      <td>Fire/Smoke</td>\n",
       "      <td>Yes</td>\n",
       "      <td>175.000</td>\n",
       "      <td>No</td>\n",
       "      <td>VXA-739792</td>\n",
       "      <td>2002-03-14 18:20:21+00:00</td>\n",
       "      <td>175</td>\n",
       "      <td>1000</td>\n",
       "      <td>...</td>\n",
       "      <td>1961-01-25</td>\n",
       "      <td>Some college</td>\n",
       "      <td>2001-06-13</td>\n",
       "      <td>No</td>\n",
       "      <td>80</td>\n",
       "      <td>Unmarried</td>\n",
       "      <td>1</td>\n",
       "      <td>1996-03-14</td>\n",
       "      <td>Yes</td>\n",
       "      <td>175000.0</td>\n",
       "    </tr>\n",
       "    <tr>\n",
       "      <th>4412</th>\n",
       "      <td>832521237</td>\n",
       "      <td>2008-07-01 04:00:29+00:00</td>\n",
       "      <td>Contamination</td>\n",
       "      <td>No</td>\n",
       "      <td>170.787</td>\n",
       "      <td>No</td>\n",
       "      <td>ZIJ-989259</td>\n",
       "      <td>1990-05-30 13:48:34+00:00</td>\n",
       "      <td>475</td>\n",
       "      <td>1000</td>\n",
       "      <td>...</td>\n",
       "      <td>1942-03-23</td>\n",
       "      <td>Some college</td>\n",
       "      <td>1977-08-29</td>\n",
       "      <td>Yes</td>\n",
       "      <td>254</td>\n",
       "      <td>Married</td>\n",
       "      <td>2</td>\n",
       "      <td>1984-04-15</td>\n",
       "      <td>No</td>\n",
       "      <td>170787.0</td>\n",
       "    </tr>\n",
       "    <tr>\n",
       "      <th>4413</th>\n",
       "      <td>646426289</td>\n",
       "      <td>2008-06-03 11:29:38+00:00</td>\n",
       "      <td>Fire/Smoke</td>\n",
       "      <td>No</td>\n",
       "      <td>137.790</td>\n",
       "      <td>No</td>\n",
       "      <td>QJD-843265</td>\n",
       "      <td>2007-07-08 06:28:25+00:00</td>\n",
       "      <td>327</td>\n",
       "      <td>1000</td>\n",
       "      <td>...</td>\n",
       "      <td>1978-10-28</td>\n",
       "      <td>Some college</td>\n",
       "      <td>2004-02-22</td>\n",
       "      <td>No</td>\n",
       "      <td>68</td>\n",
       "      <td>Unmarried</td>\n",
       "      <td>2</td>\n",
       "      <td>2003-01-20</td>\n",
       "      <td>Yes</td>\n",
       "      <td>137790.0</td>\n",
       "    </tr>\n",
       "    <tr>\n",
       "      <th>4414</th>\n",
       "      <td>910897718</td>\n",
       "      <td>2008-09-21 15:15:52+00:00</td>\n",
       "      <td>Theft/Vandalism</td>\n",
       "      <td>No</td>\n",
       "      <td>4.220</td>\n",
       "      <td>No</td>\n",
       "      <td>YXM-949527</td>\n",
       "      <td>2000-07-31 00:46:04+00:00</td>\n",
       "      <td>87</td>\n",
       "      <td>1000</td>\n",
       "      <td>...</td>\n",
       "      <td>1936-01-30</td>\n",
       "      <td>No high school</td>\n",
       "      <td>1982-11-12</td>\n",
       "      <td>Yes</td>\n",
       "      <td>15</td>\n",
       "      <td>Unmarried</td>\n",
       "      <td>1</td>\n",
       "      <td>1994-02-13</td>\n",
       "      <td>Yes</td>\n",
       "      <td>4220.0</td>\n",
       "    </tr>\n",
       "  </tbody>\n",
       "</table>\n",
       "<p>4415 rows × 22 columns</p>\n",
       "</div>"
      ],
      "text/plain": [
       "        claimid             incident_date       claim_type uninhabitable  \\\n",
       "0     351069569 2008-01-18 10:09:59+00:00       Fire/Smoke            No   \n",
       "1     806984053 2008-07-18 23:21:30+00:00       Fire/Smoke            No   \n",
       "2     654100160 2008-03-01 00:42:16+00:00  Theft/Vandalism            No   \n",
       "3     653220231 2008-10-28 10:00:09+00:00        Wind/Hail            No   \n",
       "4     226637568 2008-05-31 03:55:07+00:00  Theft/Vandalism            No   \n",
       "...         ...                       ...              ...           ...   \n",
       "4410  480679892 2008-03-14 19:45:25+00:00    Contamination            No   \n",
       "4411  978293405 2008-01-16 14:54:24+00:00       Fire/Smoke           Yes   \n",
       "4412  832521237 2008-07-01 04:00:29+00:00    Contamination            No   \n",
       "4413  646426289 2008-06-03 11:29:38+00:00       Fire/Smoke            No   \n",
       "4414  910897718 2008-09-21 15:15:52+00:00  Theft/Vandalism            No   \n",
       "\n",
       "      claim_amount fraudulent    policyid               policy_date  coverage  \\\n",
       "0          192.287         No  SSB-514465 1987-01-26 00:26:43+00:00       436   \n",
       "1          355.896         No  XWZ-702801 1983-05-14 16:02:51+00:00       925   \n",
       "2            3.530         No  FMP-391297 1988-01-15 11:53:21+00:00        79   \n",
       "3           33.452         No  WEV-471919 2000-02-22 19:19:45+00:00       607   \n",
       "4            4.029         No  ESY-256692 2001-08-09 22:37:46+00:00       119   \n",
       "...            ...        ...         ...                       ...       ...   \n",
       "4410        44.785         No  AEG-804848 1981-10-13 09:04:28+00:00        95   \n",
       "4411       175.000         No  VXA-739792 2002-03-14 18:20:21+00:00       175   \n",
       "4412       170.787         No  ZIJ-989259 1990-05-30 13:48:34+00:00       475   \n",
       "4413       137.790         No  QJD-843265 2007-07-08 06:28:25+00:00       327   \n",
       "4414         4.220         No  YXM-949527 2000-07-31 00:46:04+00:00        87   \n",
       "\n",
       "      deductible  ...         dob           edcat job_start_date retire  \\\n",
       "0           2000  ...  1943-03-12     High school     1981-04-16     No   \n",
       "1           1000  ...  1933-05-10     High school     1982-11-04     No   \n",
       "2           1000  ...  1939-04-02     High school     2004-08-20     No   \n",
       "3           1000  ...  1972-04-12    Some college     1999-07-29     No   \n",
       "4           3000  ...  1968-08-04  No high school     2004-07-04     No   \n",
       "...          ...  ...         ...             ...            ...    ...   \n",
       "4410        1000  ...  1945-04-16    Some college     2002-06-09     No   \n",
       "4411        1000  ...  1961-01-25    Some college     2001-06-13     No   \n",
       "4412        1000  ...  1942-03-23    Some college     1977-08-29    Yes   \n",
       "4413        1000  ...  1978-10-28    Some college     2004-02-22     No   \n",
       "4414        1000  ...  1936-01-30  No high school     1982-11-12    Yes   \n",
       "\n",
       "     income    marital  reside occupancy_date  primary_residence  \\\n",
       "0       193  Unmarried       1     1978-01-06                Yes   \n",
       "1       203  Unmarried       1     1971-02-04                Yes   \n",
       "2        49  Unmarried       1     1977-03-30                Yes   \n",
       "3       118    Married       3     1993-05-23                Yes   \n",
       "4        18  Unmarried       1     2000-09-04                Yes   \n",
       "...     ...        ...     ...            ...                ...   \n",
       "4410     40    Married       2     1976-02-12                Yes   \n",
       "4411     80  Unmarried       1     1996-03-14                Yes   \n",
       "4412    254    Married       2     1984-04-15                 No   \n",
       "4413     68  Unmarried       2     2003-01-20                Yes   \n",
       "4414     15  Unmarried       1     1994-02-13                Yes   \n",
       "\n",
       "     claim_amount_000s  \n",
       "0             192287.0  \n",
       "1             355896.0  \n",
       "2               3530.0  \n",
       "3              33452.0  \n",
       "4               4029.0  \n",
       "...                ...  \n",
       "4410           44785.0  \n",
       "4411          175000.0  \n",
       "4412          170787.0  \n",
       "4413          137790.0  \n",
       "4414            4220.0  \n",
       "\n",
       "[4415 rows x 22 columns]"
      ]
     },
     "execution_count": 129,
     "metadata": {},
     "output_type": "execute_result"
    }
   ],
   "source": [
    "df['claim_amount_000s'] = df['claim_amount']*1000\n",
    "claim_avg = df['claim_amount_000s'].mean()\n",
    "claim_std = df['claim_amount_000s'].std()\n",
    "[claim_avg, claim_std]\n",
    "df"
   ]
  },
  {
   "cell_type": "code",
   "execution_count": 130,
   "metadata": {},
   "outputs": [
    {
     "name": "stdout",
     "output_type": "stream",
     "text": [
      "Null hypothesis is rejected, RadySafe Insurance should raise premiums in 2009\n"
     ]
    }
   ],
   "source": [
    "n = len(df)\n",
    "confidence_level_95 = 0.95\n",
    "\n",
    "z_value_95 = stats.norm.ppf(1 - (1 - confidence_level_95) / 2)\n",
    "\n",
    "SE  = claim_std / (n ** 0.5)\n",
    "\n",
    "# Calculate the margin of error\n",
    "ME = z_value_95 * SE\n",
    "# Calculate the confidence interval\n",
    "lower_bound = claim_avg - ME\n",
    "upper_bound = claim_avg + ME\n",
    "\n",
    "CI = (lower_bound, upper_bound)\n",
    "\n",
    "if mean_2009 > CI[1] or mean_2009 < CI[0]:\n",
    "    print('Null hypothesis is rejected, RadySafe Insurance should raise premiums in 2009')\n",
    "else:\n",
    "    print('Null hypothesis is accepted, RadySafe Insurance should not raise premiums in 2009')"
   ]
  },
  {
   "cell_type": "markdown",
   "metadata": {},
   "source": [
    "#### **Question 2**\n",
    "***Should RadySafe Insurance charge different demographic groups different premiums?***"
   ]
  },
  {
   "cell_type": "markdown",
   "metadata": {},
   "source": [
    "RadySafe would like to revisit how their current premiums take into account gender and workforce status. If different demographic groups exhibit different claims behavior, perhaps they should be charged different premiums.\n",
    "\n",
    "For instance, if one gender group tends to file larger and more frequent claims than another one, perhaps they should also pay a higher policy premium to cover the additional risk.\n",
    "\n",
    "RadySafe would like you to examine the claims data provided to you to assess the following questions:"
   ]
  },
  {
   "cell_type": "markdown",
   "metadata": {},
   "source": [
    "* **Do individuals identifying as male claim higher amounts on their policy than those identifying as female?**\n",
    "\n",
    "    *Hint: Make use of the `gender` variable*"
   ]
  },
  {
   "cell_type": "markdown",
   "metadata": {},
   "source": [
    "* **Do retirees claim lower amounts on their policy?**\n",
    "\n",
    "    *Hint: Similarly, make use of the `retire` variable*"
   ]
  },
  {
   "cell_type": "markdown",
   "metadata": {},
   "source": [
    "Clearly describe your null and alternative hypotheses in each case. Provide both graphical and statistical evidence to support your recommendation."
   ]
  },
  {
   "cell_type": "markdown",
   "metadata": {},
   "source": [
    "### Answer 2"
   ]
  },
  {
   "cell_type": "markdown",
   "metadata": {},
   "source": [
    "#### 2 (a)"
   ]
  },
  {
   "cell_type": "markdown",
   "metadata": {},
   "source": [
    "\n",
    "\n",
    "Null Hypothesis\n",
    "\n",
    "Ho : Individuals identifying as male claim same amounts on their policy than those identifying as \n",
    "        mean_male = mean_female\n",
    "\n",
    "Alternate Hypothesis\n",
    "\n",
    "Ha : Individuals identifying as male claim higher amounts on their policy than those identifying as female\n",
    "        mean_male > mean_female\n"
   ]
  },
  {
   "cell_type": "code",
   "execution_count": 131,
   "metadata": {},
   "outputs": [
    {
     "name": "stderr",
     "output_type": "stream",
     "text": [
      "/tmp/ipykernel_1603/4249309348.py:1: FutureWarning: The default of observed=False is deprecated and will be changed to True in a future version of pandas. Pass observed=False to retain current behavior or observed=True to adopt the future default and silence this warning.\n",
      "  gender_group_stats = df.groupby('gender')['claim_amount_000s'].agg(['mean', 'std'])\n"
     ]
    },
    {
     "data": {
      "text/html": [
       "<div>\n",
       "<style scoped>\n",
       "    .dataframe tbody tr th:only-of-type {\n",
       "        vertical-align: middle;\n",
       "    }\n",
       "\n",
       "    .dataframe tbody tr th {\n",
       "        vertical-align: top;\n",
       "    }\n",
       "\n",
       "    .dataframe thead th {\n",
       "        text-align: right;\n",
       "    }\n",
       "</style>\n",
       "<table border=\"1\" class=\"dataframe\">\n",
       "  <thead>\n",
       "    <tr style=\"text-align: right;\">\n",
       "      <th></th>\n",
       "      <th>mean</th>\n",
       "      <th>std</th>\n",
       "    </tr>\n",
       "    <tr>\n",
       "      <th>gender</th>\n",
       "      <th></th>\n",
       "      <th></th>\n",
       "    </tr>\n",
       "  </thead>\n",
       "  <tbody>\n",
       "    <tr>\n",
       "      <th>Male</th>\n",
       "      <td>74228.946851</td>\n",
       "      <td>147857.827095</td>\n",
       "    </tr>\n",
       "    <tr>\n",
       "      <th>Female</th>\n",
       "      <td>71828.214330</td>\n",
       "      <td>140987.134728</td>\n",
       "    </tr>\n",
       "  </tbody>\n",
       "</table>\n",
       "</div>"
      ],
      "text/plain": [
       "                mean            std\n",
       "gender                             \n",
       "Male    74228.946851  147857.827095\n",
       "Female  71828.214330  140987.134728"
      ]
     },
     "execution_count": 131,
     "metadata": {},
     "output_type": "execute_result"
    }
   ],
   "source": [
    "gender_group_stats = df.groupby('gender')['claim_amount_000s'].agg(['mean', 'std'])\n",
    "mean_male = gender_group_stats.loc['Male', 'mean']\n",
    "std_male = gender_group_stats.loc['Male', 'std']\n",
    "\n",
    "mean_female = gender_group_stats.loc['Female', 'mean']\n",
    "std_female = gender_group_stats.loc['Female', 'std']\n",
    "\n",
    "gender_group_stats\n"
   ]
  },
  {
   "cell_type": "code",
   "execution_count": 132,
   "metadata": {},
   "outputs": [
    {
     "name": "stdout",
     "output_type": "stream",
     "text": [
      "Null hypothesis is accepted, males claim equal amounts on their policy as females\n"
     ]
    },
    {
     "data": {
      "image/png": "[encoded data removed]",
      "text/plain": [
       "<Figure size 1000x600 with 1 Axes>"
      ]
     },
     "metadata": {},
     "output_type": "display_data"
    }
   ],
   "source": [
    "n = df[df['gender'] == 'Male'].shape[0]\n",
    "SE  = std_male / (n ** 0.5)\n",
    "\n",
    "# Calculate the margin of error\n",
    "ME = z_value_95 * SE\n",
    "# Calculate the confidence interval\n",
    "lower_bound = mean_male - ME\n",
    "upper_bound = mean_male + ME\n",
    "\n",
    "CI = (lower_bound, upper_bound)\n",
    "\n",
    "if mean_female > CI[1] or mean_female < CI[0]:\n",
    "    print('Null hypothesis is rejected, males claim higher amounts on their policy than females')\n",
    "else:\n",
    "    print('Null hypothesis is accepted, males claim equal amounts on their policy as females')\n",
    "\n",
    "plt.figure(figsize=(10, 6))\n",
    "sns.boxplot(x=df['gender'], y=df['claim_amount'], data=df)\n",
    "plt.title('Claim Amounts by Gender')\n",
    "plt.show()"
   ]
  },
  {
   "cell_type": "markdown",
   "metadata": {},
   "source": [
    "#### 2 (b)"
   ]
  },
  {
   "cell_type": "markdown",
   "metadata": {},
   "source": [
    "Null Hypothesis\n",
    "\n",
    "Ho : Retirees claim same amounts on their policy as others\n",
    "        mean_retirees = mean_others\n",
    "\n",
    "Alternate Hypothesis\n",
    "\n",
    "Ha : Retirees claim lower amounts on their policy than others\n",
    "        mean_retirees < mean_others\n"
   ]
  },
  {
   "cell_type": "code",
   "execution_count": 133,
   "metadata": {},
   "outputs": [
    {
     "name": "stderr",
     "output_type": "stream",
     "text": [
      "/tmp/ipykernel_1603/2079424878.py:1: FutureWarning: The default of observed=False is deprecated and will be changed to True in a future version of pandas. Pass observed=False to retain current behavior or observed=True to adopt the future default and silence this warning.\n",
      "  retire_group_stats = df.groupby('retire')['claim_amount_000s'].agg(['mean', 'std'])\n"
     ]
    },
    {
     "data": {
      "text/html": [
       "<div>\n",
       "<style scoped>\n",
       "    .dataframe tbody tr th:only-of-type {\n",
       "        vertical-align: middle;\n",
       "    }\n",
       "\n",
       "    .dataframe tbody tr th {\n",
       "        vertical-align: top;\n",
       "    }\n",
       "\n",
       "    .dataframe thead th {\n",
       "        text-align: right;\n",
       "    }\n",
       "</style>\n",
       "<table border=\"1\" class=\"dataframe\">\n",
       "  <thead>\n",
       "    <tr style=\"text-align: right;\">\n",
       "      <th></th>\n",
       "      <th>mean</th>\n",
       "      <th>std</th>\n",
       "    </tr>\n",
       "    <tr>\n",
       "      <th>retire</th>\n",
       "      <th></th>\n",
       "      <th></th>\n",
       "    </tr>\n",
       "  </thead>\n",
       "  <tbody>\n",
       "    <tr>\n",
       "      <th>Yes</th>\n",
       "      <td>37313.141115</td>\n",
       "      <td>60529.064251</td>\n",
       "    </tr>\n",
       "    <tr>\n",
       "      <th>No</th>\n",
       "      <td>78345.591382</td>\n",
       "      <td>152325.320431</td>\n",
       "    </tr>\n",
       "  </tbody>\n",
       "</table>\n",
       "</div>"
      ],
      "text/plain": [
       "                mean            std\n",
       "retire                             \n",
       "Yes     37313.141115   60529.064251\n",
       "No      78345.591382  152325.320431"
      ]
     },
     "execution_count": 133,
     "metadata": {},
     "output_type": "execute_result"
    }
   ],
   "source": [
    "retire_group_stats = df.groupby('retire')['claim_amount_000s'].agg(['mean', 'std'])\n",
    "mean_retire = retire_group_stats.loc['Yes', 'mean']\n",
    "std_retire = retire_group_stats.loc['Yes', 'std']\n",
    "\n",
    "mean_others = retire_group_stats.loc['No', 'mean']\n",
    "std_others = retire_group_stats.loc['No', 'std']\n",
    "\n",
    "retire_group_stats"
   ]
  },
  {
   "cell_type": "code",
   "execution_count": 134,
   "metadata": {},
   "outputs": [
    {
     "name": "stdout",
     "output_type": "stream",
     "text": [
      "Null hypothesis is rejected, Retirees claim lower amounts on their policy than others\n"
     ]
    },
    {
     "data": {
      "image/png": "[encoded data removed]",
      "text/plain": [
       "<Figure size 1000x600 with 1 Axes>"
      ]
     },
     "metadata": {},
     "output_type": "display_data"
    }
   ],
   "source": [
    "n = df[df['retire'] == 'Yes'].shape[0]\n",
    "SE  = std_retire / (n ** 0.5)\n",
    "\n",
    "# Calculate the margin of error\n",
    "ME = z_value_95 * SE\n",
    "# Calculate the confidence interval\n",
    "lower_bound = mean_retire - ME\n",
    "upper_bound = mean_retire + ME\n",
    "\n",
    "CI = (lower_bound, upper_bound)\n",
    "\n",
    "if mean_others > CI[1] or mean_others < CI[0]:\n",
    "    print('Null hypothesis is rejected, Retirees claim lower amounts on their policy than others')\n",
    "else:\n",
    "    print('Null hypothesis is accepted, Retirees claim same amounts on their policy than others')\n",
    "    \n",
    "plt.figure(figsize=(10, 6))\n",
    "sns.boxplot(x=df['retire'], y=df['claim_amount'], data=df)\n",
    "plt.title('Claim Amounts by Retire')\n",
    "plt.show()"
   ]
  },
  {
   "cell_type": "markdown",
   "metadata": {},
   "source": [
    "#### **Question 3**\n",
    "***Have RadySafe Insurance's efforts to catch fraud been effective?***"
   ]
  },
  {
   "cell_type": "markdown",
   "metadata": {},
   "source": [
    "At the end of 2007, RadySafe invested heavily to implement fraud detection algorithms in their claims processes. For the year of 2007, they ultimately determined that 9.8% of all claims were fraudulent. RadySafe wants to know if their investment in fraud detection has paid off in 2008. \n",
    "\n",
    "Do you believe their investments have enabled them to identify fraud significantly better? Please explain your reasoning. Clearly describe your null and alternative hypotheses. For simplicity, you may assume that policy holders are no more, or less, likely to file fraudulent claims in 2008 and that any difference in detection rate can be linked to the new detection algorithms."
   ]
  },
  {
   "cell_type": "markdown",
   "metadata": {},
   "source": [
    "### Answer 3"
   ]
  },
  {
   "cell_type": "markdown",
   "metadata": {},
   "source": [
    "Null Hypothesis\n",
    "\n",
    "Ho : RadySafe Insurance's efforts to catch fraud has not been effective\n",
    "\n",
    "Alternate Hypothesis\n",
    "\n",
    "Ha : RadySafe Insurance's efforts to catch fraud been effective"
   ]
  },
  {
   "cell_type": "code",
   "execution_count": 135,
   "metadata": {},
   "outputs": [
    {
     "name": "stdout",
     "output_type": "stream",
     "text": [
      "Null hypothesis is accepted, RadySafe Insurances efforts to catch fraud has not been effective\n"
     ]
    },
    {
     "data": {
      "text/plain": [
       "0.06235616211543339"
      ]
     },
     "execution_count": 135,
     "metadata": {},
     "output_type": "execute_result"
    }
   ],
   "source": [
    "p = 0.098\n",
    "fraud = df[df['fraudulent'] == 'Yes'].shape[0]\n",
    "n = len(df)\n",
    "p_hat = fraud / n\n",
    "\n",
    "z_value_95 = stats.norm.ppf(1 - (1 - confidence_level_95) / 2)\n",
    "\n",
    "# Calculate the standard error for the proportion\n",
    "SE_prop = (p_hat * (1 - p_hat) / n) ** 0.5\n",
    "ME = z_value_95 * SE_prop\n",
    "\n",
    "lower_bound_prop = p_hat - ME\n",
    "upper_bound_prop = p_hat + ME\n",
    "\n",
    "CI = [lower_bound_prop, upper_bound_prop]\n",
    "\n",
    "if p > CI[1] or p < CI[0]:\n",
    "    print('Null hypothesis is rejected, RadySafe Insurances efforts to catch fraud been effective')\n",
    "else:\n",
    "    print('Null hypothesis is accepted, RadySafe Insurances efforts to catch fraud has not been effective')\n",
    "\n",
    "z_calc = (p_hat - p )/(p * (1 - p) / n) ** 0.5\n",
    "p_value = stats.norm.sf(z_calc)\n",
    "p_value"
   ]
  },
  {
   "cell_type": "markdown",
   "metadata": {},
   "source": [
    "#### **Question 4**\n",
    "***Are fraudulent claim amounts higher or lower than non-fraudulent claim amounts?***"
   ]
  },
  {
   "cell_type": "markdown",
   "metadata": {},
   "source": [
    "Clearly describe your null and alternative hypotheses. Provide both graphical and statistical evidence to support your answer."
   ]
  },
  {
   "cell_type": "markdown",
   "metadata": {},
   "source": [
    "### Answer 3"
   ]
  },
  {
   "cell_type": "markdown",
   "metadata": {},
   "source": [
    "Null Hypothesis\n",
    "\n",
    "Ho : fraudulent claim amounts equal to non-fraudulent claim amounts\n",
    "\n",
    "Alternate Hypothesis\n",
    "\n",
    "Ha : fraudulent claim amounts higher or lower than non-fraudulent claim amounts"
   ]
  },
  {
   "cell_type": "code",
   "execution_count": 136,
   "metadata": {},
   "outputs": [
    {
     "name": "stderr",
     "output_type": "stream",
     "text": [
      "/tmp/ipykernel_1603/3398301527.py:1: FutureWarning: The default of observed=False is deprecated and will be changed to True in a future version of pandas. Pass observed=False to retain current behavior or observed=True to adopt the future default and silence this warning.\n",
      "  fraudulent_stats = df.groupby('fraudulent')['claim_amount_000s'].agg(['mean', 'std'])\n"
     ]
    },
    {
     "data": {
      "text/html": [
       "<div>\n",
       "<style scoped>\n",
       "    .dataframe tbody tr th:only-of-type {\n",
       "        vertical-align: middle;\n",
       "    }\n",
       "\n",
       "    .dataframe tbody tr th {\n",
       "        vertical-align: top;\n",
       "    }\n",
       "\n",
       "    .dataframe thead th {\n",
       "        text-align: right;\n",
       "    }\n",
       "</style>\n",
       "<table border=\"1\" class=\"dataframe\">\n",
       "  <thead>\n",
       "    <tr style=\"text-align: right;\">\n",
       "      <th></th>\n",
       "      <th>mean</th>\n",
       "      <th>std</th>\n",
       "    </tr>\n",
       "    <tr>\n",
       "      <th>fraudulent</th>\n",
       "      <th></th>\n",
       "      <th></th>\n",
       "    </tr>\n",
       "  </thead>\n",
       "  <tbody>\n",
       "    <tr>\n",
       "      <th>Yes</th>\n",
       "      <td>66009.435205</td>\n",
       "      <td>133863.201587</td>\n",
       "    </tr>\n",
       "    <tr>\n",
       "      <th>No</th>\n",
       "      <td>73831.171812</td>\n",
       "      <td>145579.901566</td>\n",
       "    </tr>\n",
       "  </tbody>\n",
       "</table>\n",
       "</div>"
      ],
      "text/plain": [
       "                    mean            std\n",
       "fraudulent                             \n",
       "Yes         66009.435205  133863.201587\n",
       "No          73831.171812  145579.901566"
      ]
     },
     "execution_count": 136,
     "metadata": {},
     "output_type": "execute_result"
    }
   ],
   "source": [
    "fraudulent_stats = df.groupby('fraudulent')['claim_amount_000s'].agg(['mean', 'std'])\n",
    "mean_fraud = fraudulent_stats.loc['Yes', 'mean']\n",
    "std_fraud = fraudulent_stats.loc['Yes', 'std']\n",
    "\n",
    "mean_non_fraud = fraudulent_stats.loc['No', 'mean']\n",
    "std_non_fraud = fraudulent_stats.loc['No', 'std']\n",
    "fraudulent_stats"
   ]
  },
  {
   "cell_type": "code",
   "execution_count": 137,
   "metadata": {},
   "outputs": [
    {
     "name": "stdout",
     "output_type": "stream",
     "text": [
      "Null hypothesis is accepted, fraudulent claim amounts equal to non-fraudulent claim amounts\n"
     ]
    },
    {
     "data": {
      "image/png": "[encoded data removed]",
      "text/plain": [
       "<Figure size 1000x600 with 1 Axes>"
      ]
     },
     "metadata": {},
     "output_type": "display_data"
    }
   ],
   "source": [
    "n = df[df['fraudulent'] == 'Yes'].shape[0]\n",
    "SE  = std_fraud / (n ** 0.5)\n",
    "\n",
    "# Calculate the margin of error\n",
    "ME = z_value_95 * SE\n",
    "# Calculate the confidence interval\n",
    "lower_bound = mean_fraud - ME\n",
    "upper_bound = mean_fraud + ME\n",
    "\n",
    "CI = (lower_bound, upper_bound)\n",
    "\n",
    "if mean_non_fraud > CI[1] or mean_non_fraud < CI[0]:\n",
    "    print('Null hypothesis is rejected, fraudulent claim amounts higher or lower than non-fraudulent claim amounts')\n",
    "else:\n",
    "    print('Null hypothesis is accepted, fraudulent claim amounts equal to non-fraudulent claim amounts')\n",
    "\n",
    "plt.figure(figsize=(10, 6))\n",
    "sns.boxplot(x=df['fraudulent'], y=df['claim_amount'], data=df)\n",
    "plt.title('Claim Amounts by Fraudulent')\n",
    "plt.show()"
   ]
  }
 ],
 "metadata": {
  "kernelspec": {
   "display_name": "Python 3 (ipykernel)",
   "language": "python",
   "name": "python3"
  },
  "language_info": {
   "codemirror_mode": {
    "name": "ipython",
    "version": 3
   },
   "file_extension": ".py",
   "mimetype": "text/x-python",
   "name": "python",
   "nbconvert_exporter": "python",
   "pygments_lexer": "ipython3",
   "version": "3.11.9"
  },
  "vscode": {
   "interpreter": {
    "hash": "d4d1e4263499bec80672ea0156c357c1ee493ec2b1c70f0acce89fc37c4a6abe"
   }
  }
 },
 "nbformat": 4,
 "nbformat_minor": 4
}
