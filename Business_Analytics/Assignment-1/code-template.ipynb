{
 "cells": [
  {
   "cell_type": "code",
   "execution_count": 13,
   "metadata": {},
   "outputs": [
    {
     "name": "stdout",
     "output_type": "stream",
     "text": [
      "      price  mon_purchases  tues_purchases\n",
      "0        10              1               0\n",
      "1        10              1               1\n",
      "2        10              1               1\n",
      "3        10              0               1\n",
      "4        10              0               1\n",
      "...     ...            ...             ...\n",
      "5095     60              1               0\n",
      "5096     60              0               0\n",
      "5097     60              0               0\n",
      "5098     60              0               0\n",
      "5099     60              0               0\n",
      "\n",
      "[5100 rows x 3 columns]\n"
     ]
    }
   ],
   "source": [
    "import pandas as pd\n",
    "\n",
    "file_path = 'prices.parquet'\n",
    "df = pd.read_parquet(file_path)  \n",
    "print(df)"
   ]
  },
  {
   "cell_type": "code",
   "execution_count": 12,
   "metadata": {},
   "outputs": [],
   "source": [
    "def optimize_prices(df):\n",
    "\n",
    "    # Create column for monday and tuesday purchase average\n",
    "    grouped_df = df.groupby('price').agg({'mon_purchases': 'mean', 'tues_purchases': 'mean'})\n",
    "    \n",
    "    # Create column with tuesday purchase values\n",
    "    grouped_df['tuesday_price'] = grouped_df.index * grouped_df['tues_purchases']\n",
    "    \n",
    "    # Optimal price for tuesday\n",
    "    tues_max_value = grouped_df['tuesday_price'].max()\n",
    "    \n",
    "    # Create column with monday purchase values\n",
    "    grouped_df['monday_price'] = (grouped_df.index*grouped_df['mon_purchases']) + (tues_max_value * (1-grouped_df['mon_purchases']))\n",
    "    \n",
    "    # Optimal price for tuesday\n",
    "    tues_opt_price = grouped_df['tuesday_price'].idxmax()\n",
    "    \n",
    "    # Optimal price for monday\n",
    "    mon_opt_price = grouped_df['monday_price'].idxmax()\n",
    "\n",
    "\n",
    "    return mon_opt_price, tues_opt_price"
   ]
  }
 ],
 "metadata": {
  "kernelspec": {
   "display_name": "Python 3 (ipykernel)",
   "language": "python",
   "name": "python3"
  },
  "language_info": {
   "codemirror_mode": {
    "name": "ipython",
    "version": 3
   },
   "file_extension": ".py",
   "mimetype": "text/x-python",
   "name": "python",
   "nbconvert_exporter": "python",
   "pygments_lexer": "ipython3",
   "version": "3.11.9"
  },
  "vscode": {
   "interpreter": {
    "hash": "d4d1e4263499bec80672ea0156c357c1ee493ec2b1c70f0acce89fc37c4a6abe"
   }
  }
 },
 "nbformat": 4,
 "nbformat_minor": 4
}
